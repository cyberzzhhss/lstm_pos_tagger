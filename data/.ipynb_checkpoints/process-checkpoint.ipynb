{
 "cells": [
  {
   "cell_type": "code",
   "execution_count": 42,
   "metadata": {},
   "outputs": [],
   "source": [
    "def foo(file):\n",
    "    f = open(file,'r')\n",
    "    line = f.readline().strip('\\n')\n",
    "    count = 0\n",
    "    tag = 0\n",
    "    while line:\n",
    "        if line == '\\n':\n",
    "            count += 1\n",
    "            line = f.readline()\n",
    "            continue\n",
    "        tag += 1\n",
    "        line = f.readline()\n",
    "    print(file)    \n",
    "    print(\"tags:\",tag)\n",
    "    print(\"sent:\",count)"
   ]
  },
  {
   "cell_type": "code",
   "execution_count": 43,
   "metadata": {},
   "outputs": [
    {
     "ename": "FileNotFoundError",
     "evalue": "[Errno 2] No such file or directory: 'chinese_train.pos'",
     "output_type": "error",
     "traceback": [
      "\u001b[0;31m---------------------------------------------------------------------------\u001b[0m",
      "\u001b[0;31mFileNotFoundError\u001b[0m                         Traceback (most recent call last)",
      "\u001b[0;32m<ipython-input-43-d2b1bd55165b>\u001b[0m in \u001b[0;36m<module>\u001b[0;34m\u001b[0m\n\u001b[0;32m----> 1\u001b[0;31m \u001b[0mfoo\u001b[0m\u001b[0;34m(\u001b[0m\u001b[0;34m'chinese_train.pos'\u001b[0m\u001b[0;34m)\u001b[0m\u001b[0;34m\u001b[0m\u001b[0;34m\u001b[0m\u001b[0m\n\u001b[0m",
      "\u001b[0;32m<ipython-input-42-50cf5b89b71e>\u001b[0m in \u001b[0;36mfoo\u001b[0;34m(file)\u001b[0m\n\u001b[1;32m      1\u001b[0m \u001b[0;32mdef\u001b[0m \u001b[0mfoo\u001b[0m\u001b[0;34m(\u001b[0m\u001b[0mfile\u001b[0m\u001b[0;34m)\u001b[0m\u001b[0;34m:\u001b[0m\u001b[0;34m\u001b[0m\u001b[0;34m\u001b[0m\u001b[0m\n\u001b[0;32m----> 2\u001b[0;31m     \u001b[0mf\u001b[0m \u001b[0;34m=\u001b[0m \u001b[0mopen\u001b[0m\u001b[0;34m(\u001b[0m\u001b[0mfile\u001b[0m\u001b[0;34m,\u001b[0m\u001b[0;34m'r'\u001b[0m\u001b[0;34m)\u001b[0m\u001b[0;34m\u001b[0m\u001b[0;34m\u001b[0m\u001b[0m\n\u001b[0m\u001b[1;32m      3\u001b[0m     \u001b[0mline\u001b[0m \u001b[0;34m=\u001b[0m \u001b[0mf\u001b[0m\u001b[0;34m.\u001b[0m\u001b[0mreadline\u001b[0m\u001b[0;34m(\u001b[0m\u001b[0;34m)\u001b[0m\u001b[0;34m.\u001b[0m\u001b[0mstrip\u001b[0m\u001b[0;34m(\u001b[0m\u001b[0;34m'\\n'\u001b[0m\u001b[0;34m)\u001b[0m\u001b[0;34m\u001b[0m\u001b[0;34m\u001b[0m\u001b[0m\n\u001b[1;32m      4\u001b[0m     \u001b[0mcount\u001b[0m \u001b[0;34m=\u001b[0m \u001b[0;36m0\u001b[0m\u001b[0;34m\u001b[0m\u001b[0;34m\u001b[0m\u001b[0m\n\u001b[1;32m      5\u001b[0m     \u001b[0mtag\u001b[0m \u001b[0;34m=\u001b[0m \u001b[0;36m0\u001b[0m\u001b[0;34m\u001b[0m\u001b[0;34m\u001b[0m\u001b[0m\n",
      "\u001b[0;31mFileNotFoundError\u001b[0m: [Errno 2] No such file or directory: 'chinese_train.pos'"
     ]
    }
   ],
   "source": [
    "foo('chinese_train.pos')"
   ]
  },
  {
   "cell_type": "code",
   "execution_count": 2,
   "metadata": {},
   "outputs": [],
   "source": [
    "def foo(file):\n",
    "    f = open(file,'r')\n",
    "    line = f.readline().strip('\\n')\n",
    "    count = 0\n",
    "    tag = 0\n",
    "    while line:\n",
    "        if line == '\\n':\n",
    "            count += 1\n",
    "            line = f.readline()\n",
    "            continue\n",
    "        tag += 1\n",
    "        line = f.readline()\n",
    "    print(file)    \n",
    "    print(\"tags:\",tag)\n",
    "    print(\"sent:\",count)"
   ]
  },
  {
   "cell_type": "code",
   "execution_count": 2,
   "metadata": {},
   "outputs": [
    {
     "name": "stdout",
     "output_type": "stream",
     "text": [
      "chinese_training.txt\n",
      "tags: 508613\n",
      "sent: 18784\n"
     ]
    }
   ],
   "source": [
    "foo('chinese_training.txt')"
   ]
  },
  {
   "cell_type": "code",
   "execution_count": null,
   "metadata": {},
   "outputs": [],
   "source": []
  },
  {
   "cell_type": "code",
   "execution_count": 9,
   "metadata": {},
   "outputs": [
    {
     "name": "stdout",
     "output_type": "stream",
     "text": [
      "chinese_dev_pos.txt\n",
      "tags: 23626\n",
      "sent: 786\n",
      "chinese_dev_words.txt\n",
      "tags: 23626\n",
      "sent: 786\n",
      "chinese_test_pos.txt\n",
      "tags: 21557\n",
      "sent: 659\n",
      "chinese_test_words.txt\n",
      "tags: 21557\n",
      "sent: 659\n"
     ]
    }
   ],
   "source": [
    "foo('chinese_dev_pos.txt')\n",
    "foo('chinese_dev_words.txt')\n",
    "foo('chinese_test_pos.txt')\n",
    "foo(\"chinese_test_words.txt\") "
   ]
  },
  {
   "cell_type": "code",
   "execution_count": 5,
   "metadata": {},
   "outputs": [
    {
     "name": "stdout",
     "output_type": "stream",
     "text": [
      "old_data/chinese_train.pos\n",
      "tags: 479266\n",
      "sent: 17738\n",
      "old_data/chinese_test.pos\n",
      "tags: 11358\n",
      "sent: 333\n",
      "old_data/chinese_test.words\n",
      "tags: 11358\n",
      "sent: 333\n",
      "old_data/chinese_dev.pos\n",
      "tags: 10199\n",
      "sent: 326\n",
      "old_data/chinese_dev.words\n",
      "tags: 10199\n",
      "sent: 326\n"
     ]
    }
   ],
   "source": [
    "foo('old_data/chinese_train.pos')\n",
    "foo('old_data/chinese_test.pos')\n",
    "foo('old_data/chinese_test.words')\n",
    "foo('old_data/chinese_dev.pos')\n",
    "foo('old_data/chinese_dev.words')"
   ]
  },
  {
   "cell_type": "code",
   "execution_count": 4,
   "metadata": {},
   "outputs": [
    {
     "name": "stdout",
     "output_type": "stream",
     "text": [
      "chinese_train.pos\n",
      "tags: 508613\n",
      "sent: 18784\n",
      "chinese_test.pos\n",
      "tags: 23626\n",
      "sent: 786\n",
      "chinese_test.words\n",
      "tags: 23626\n",
      "sent: 786\n",
      "chinese_dev.pos\n",
      "tags: 21557\n",
      "sent: 659\n",
      "chinese_dev.words\n",
      "tags: 21557\n",
      "sent: 659\n"
     ]
    }
   ],
   "source": [
    "foo('chinese_train.pos')\n",
    "foo('chinese_test.pos')\n",
    "foo('chinese_test.words')\n",
    "foo('chinese_dev.pos')\n",
    "foo('chinese_dev.words')"
   ]
  },
  {
   "cell_type": "code",
   "execution_count": 6,
   "metadata": {},
   "outputs": [
    {
     "name": "stdout",
     "output_type": "stream",
     "text": [
      "chinese_test.pos\n",
      "tags: 11358\n",
      "sent: 333\n",
      "chinese_test.words\n",
      "tags: 11358\n",
      "sent: 333\n",
      "chinese_dev.pos\n",
      "tags: 10199\n",
      "sent: 326\n",
      "chinese_dev.words\n",
      "tags: 10199\n",
      "sent: 326\n"
     ]
    }
   ],
   "source": [
    "foo('chinese_test.pos')\n",
    "foo('chinese_test.words')\n",
    "foo('chinese_dev.pos')\n",
    "foo('chinese_dev.words')"
   ]
  },
  {
   "cell_type": "code",
   "execution_count": 46,
   "metadata": {},
   "outputs": [
    {
     "name": "stdout",
     "output_type": "stream",
     "text": [
      "chinese_test.pos\n",
      "tags: 10822\n",
      "sent: 319\n",
      "chinese_test.words\n",
      "tags: 10822\n",
      "sent: 319\n",
      "chinese_dev.pos\n",
      "tags: 9998\n",
      "sent: 320\n",
      "chinese_dev.words\n",
      "tags: 9998\n",
      "sent: 320\n"
     ]
    }
   ],
   "source": [
    "foo('chinese_test.pos')\n",
    "foo('chinese_test.words')\n",
    "foo('chinese_dev.pos')\n",
    "foo('chinese_dev.words')"
   ]
  },
  {
   "cell_type": "code",
   "execution_count": 11,
   "metadata": {},
   "outputs": [
    {
     "name": "stdout",
     "output_type": "stream",
     "text": [
      "WSJ_02-21.pos\n",
      "tags: 950028\n",
      "sent: 39832\n",
      "WSJ_23.pos\n",
      "tags: 56684\n",
      "sent: 2416\n",
      "WSJ_23.words\n",
      "tags: 56684\n",
      "sent: 2416\n",
      "WSJ_24.pos\n",
      "tags: 32853\n",
      "sent: 1346\n",
      "WSJ_24.words\n",
      "tags: 32853\n",
      "sent: 1346\n"
     ]
    }
   ],
   "source": [
    "foo('WSJ_02-21.pos')\n",
    "foo('WSJ_23.pos')\n",
    "foo('WSJ_23.words')\n",
    "foo('WSJ_24.pos')\n",
    "foo('WSJ_24.words')"
   ]
  },
  {
   "cell_type": "code",
   "execution_count": null,
   "metadata": {},
   "outputs": [],
   "source": []
  },
  {
   "cell_type": "code",
   "execution_count": null,
   "metadata": {},
   "outputs": [],
   "source": []
  },
  {
   "cell_type": "code",
   "execution_count": 10,
   "metadata": {},
   "outputs": [
    {
     "data": {
      "text/plain": [
       "'-f'"
      ]
     },
     "execution_count": 10,
     "metadata": {},
     "output_type": "execute_result"
    }
   ],
   "source": [
    "import sys\n",
    "sys.argv[1]"
   ]
  },
  {
   "cell_type": "code",
   "execution_count": 11,
   "metadata": {},
   "outputs": [],
   "source": [
    "f = sys.argv[1]+\"_model\""
   ]
  },
  {
   "cell_type": "code",
   "execution_count": 12,
   "metadata": {},
   "outputs": [
    {
     "data": {
      "text/plain": [
       "'-f_model'"
      ]
     },
     "execution_count": 12,
     "metadata": {},
     "output_type": "execute_result"
    }
   ],
   "source": [
    "f"
   ]
  },
  {
   "cell_type": "code",
   "execution_count": 18,
   "metadata": {},
   "outputs": [
    {
     "name": "stdout",
     "output_type": "stream",
     "text": [
      "epoch: 1\n"
     ]
    }
   ],
   "source": [
    "epoch = 1\n",
    "print(\"epoch:\", epoch)\n"
   ]
  },
  {
   "cell_type": "code",
   "execution_count": 1,
   "metadata": {},
   "outputs": [],
   "source": [
    "file = 'sample.txt'\n",
    "out = 'test.txt'\n",
    "f = open(file,'r')\n",
    "f2 = open(out,'w')\n",
    "line = f.readline().strip('\\n')\n",
    "while line:\n",
    "    if line.strip('\\n') == '':\n",
    "        f2.write('\\n')\n",
    "        line = f.readline()\n",
    "        continue\n",
    "    line = line.strip('\\n').split('\\t')\n",
    "    f2.write(line[0]+'\\n')\n",
    "    line = f.readline()"
   ]
  },
  {
   "cell_type": "code",
   "execution_count": 3,
   "metadata": {},
   "outputs": [
    {
     "name": "stdout",
     "output_type": "stream",
     "text": [
      "chinese_test.pos\n",
      "tags: 11358\n",
      "sent: 333\n",
      "chinese_test.words\n",
      "tags: 11358\n",
      "sent: 333\n",
      "chinese_dev.pos\n",
      "tags: 10199\n",
      "sent: 326\n",
      "chinese_dev.words\n",
      "tags: 10199\n",
      "sent: 326\n"
     ]
    }
   ],
   "source": [
    "def foo(file):\n",
    "    f = open(file,'r')\n",
    "    line = f.readline().strip('\\n')\n",
    "    count = 0\n",
    "    tag = 0\n",
    "    while line:\n",
    "        if line == '\\n':\n",
    "            count += 1\n",
    "            line = f.readline()\n",
    "            continue\n",
    "        tag += 1\n",
    "        line = f.readline()\n",
    "    print(file)    \n",
    "    print(\"tags:\",tag)\n",
    "    print(\"sent:\",count)\n",
    "\n",
    "f1 = 'chinese_test.pos'\n",
    "f2 = 'chinese_test.words'\n",
    "f3 = 'chinese_dev.pos'\n",
    "f4 = 'chinese_dev.words'\n",
    "\n",
    "foo(f1)\n",
    "foo(f2)\n",
    "foo(f3)\n",
    "foo(f4)"
   ]
  },
  {
   "cell_type": "code",
   "execution_count": null,
   "metadata": {},
   "outputs": [],
   "source": [
    "file = "
   ]
  },
  {
   "cell_type": "code",
   "execution_count": 16,
   "metadata": {},
   "outputs": [
    {
     "name": "stdout",
     "output_type": "stream",
     "text": [
      "21557\n",
      "659\n"
     ]
    }
   ],
   "source": [
    "file = 'chinese_test_pos.txt'\n",
    "f = open(file,'r')\n",
    "line = f.readline().strip('\\n')\n",
    "count = 0\n",
    "tag = 0\n",
    "while line:\n",
    "    if line == '\\n':\n",
    "        count += 1\n",
    "        line = f.readline()\n",
    "        continue\n",
    "    tag += 1\n",
    "    line = f.readline()\n",
    "print(tag)\n",
    "print(count)"
   ]
  },
  {
   "cell_type": "code",
   "execution_count": 2,
   "metadata": {},
   "outputs": [
    {
     "name": "stdout",
     "output_type": "stream",
     "text": [
      "['俄罗斯\\tNR', '总统\\tNN', '普京\\tNR', '今天\\tNT', '首\\tOD', '次\\tM', '举行\\tVV', '的\\tDEC', '国务\\tNN', '委员\\tNN', '第一\\tOD', '次\\tM', '会议\\tNN', '决议\\tVV', '，\\tPU', '对于\\tP', '俄罗斯\\tNR', '变更\\tVV', '国歌\\tNN', '案\\tNN', '由\\tP', '圣彼得堡\\tNR', '市长\\tNN', '亚科夫列会\\tNR', '担任\\tVV', '召集人\\tNN', '，\\tPU', '在\\tP', '征选\\tVV', '国歌\\tNN', '之后\\tLC', '根据\\tP', '民意\\tNN', '再\\tAD', '送\\tVV', '下议院\\tNN', '审议\\tVV', '通过\\tVV', '。\\tPU']\n",
      "['而\\tAD', '情况\\tNN', '显示\\tVV', '，\\tPU', '前\\tJJ', '苏联\\tNR', '国歌\\tNN', '和\\tCC', '目前\\tNT', '的\\tDEG', '俄罗斯\\tNR', '国歌\\tNN', '入选\\tNN', '机率\\tNN', '最\\tAD', '大\\tVA', '。\\tPU']\n",
      "['在\\tP', '会议\\tNN', '举行\\tVV', '前夕\\tLC', '，\\tPU', '俄罗斯\\tNR', '全\\tDT', '俄\\tNR', '民意\\tNN', '协会\\tNN', '进行\\tVV', '的\\tDEC', '一\\tCD', '项\\tM', '民意\\tNN', '调查\\tNN', '结果\\tNN', '显示\\tVV', '：\\tPU', '有\\tVE', '将近\\tAD', '４９．９％\\tCD', '的\\tDEG', '人\\tNN', '赞成\\tVV', '恢复\\tVV', '前\\tJJ', '苏联\\tNR', '国歌\\tNN', '；\\tPU', '只\\tAD', '有\\tVE', '１５．５％\\tCD', '的\\tDEG', '人\\tNN', '喜欢\\tVV', '现在\\tNT', '的\\tDEG', '俄罗斯\\tNR', '国歌\\tNN', '。\\tPU']\n"
     ]
    }
   ],
   "source": [
    "# test_file = 'sample.txt'\n",
    "# f = open(test_file,'r')\n",
    "# line = f.readline().strip('\\n')\n",
    "# untagged_words = []\n",
    "# while line:\n",
    "#     if line.strip('\\n') == '':\n",
    "#         print(untagged_words)\n",
    "#         untagged_words = []\n",
    "#         line = f.readline()\n",
    "#         continue\n",
    "#     line = line.strip('\\n')\n",
    "#     untagged_words.append(line)\n",
    "#     line = f.readline()"
   ]
  },
  {
   "cell_type": "code",
   "execution_count": 5,
   "metadata": {},
   "outputs": [
    {
     "name": "stdout",
     "output_type": "stream",
     "text": [
      "['俄罗斯', '总统', '普京', '今天', '首', '次', '举行', '的', '国务', '委员', '第一', '次', '会议', '决议', '，', '对于', '俄罗斯', '变更', '国歌', '案', '由', '圣彼得堡', '市长', '亚科夫列会', '担任', '召集人', '，', '在', '征选', '国歌', '之后', '根据', '民意', '再', '送', '下议院', '审议', '通过', '。']\n",
      "['而', '情况', '显示', '，', '前', '苏联', '国歌', '和', '目前', '的', '俄罗斯', '国歌', '入选', '机率', '最', '大', '。']\n",
      "['在', '会议', '举行', '前夕', '，', '俄罗斯', '全', '俄', '民意', '协会', '进行', '的', '一', '项', '民意', '调查', '结果', '显示', '：', '有', '将近', '４９．９％', '的', '人', '赞成', '恢复', '前', '苏联', '国歌', '；', '只', '有', '１５．５％', '的', '人', '喜欢', '现在', '的', '俄罗斯', '国歌', '。']\n"
     ]
    }
   ],
   "source": [
    "# test_file = 'test.txt'\n",
    "# f = open(test_file,'r')\n",
    "# line = f.readline().strip('\\n')\n",
    "# untagged_words = []\n",
    "# while line:\n",
    "#     if line.strip('\\n') == '':\n",
    "#         print(untagged_words)\n",
    "#         untagged_words = []\n",
    "#         line = f.readline()\n",
    "#         continue\n",
    "#     line = line.strip('\\n')\n",
    "#     untagged_words.append(line)\n",
    "#     line = f.readline()"
   ]
  },
  {
   "cell_type": "code",
   "execution_count": 8,
   "metadata": {},
   "outputs": [],
   "source": [
    "file = 'dev.pos'\n",
    "out = 'dev.words'\n",
    "f = open(file,'r')\n",
    "f2 = open(out,'w')\n",
    "line = f.readline().strip('\\n')\n",
    "while line:\n",
    "    if line.strip('\\n') == '':\n",
    "        f2.write('\\n')\n",
    "        line = f.readline()\n",
    "        continue\n",
    "    line = line.split('\\t')\n",
    "    f2.write(line[0]+'\\n')\n",
    "    line = f.readline()"
   ]
  },
  {
   "cell_type": "code",
   "execution_count": 7,
   "metadata": {},
   "outputs": [],
   "source": [
    "file = 'chinese_dev_pos.txt'\n",
    "out = 'chinese_dev_words.txt'\n",
    "f = open(file,'r')\n",
    "f2 = open(out,'w')\n",
    "line = f.readline().strip('\\n')\n",
    "while line:\n",
    "    if line.strip('\\n') == '':\n",
    "        f2.write('\\n')\n",
    "        line = f.readline()\n",
    "        continue\n",
    "    line = line.split('\\t')\n",
    "    f2.write(line[0]+'\\n')\n",
    "    line = f.readline()"
   ]
  },
  {
   "cell_type": "code",
   "execution_count": null,
   "metadata": {},
   "outputs": [],
   "source": []
  },
  {
   "cell_type": "code",
   "execution_count": null,
   "metadata": {},
   "outputs": [],
   "source": []
  }
 ],
 "metadata": {
  "kernelspec": {
   "display_name": "Python 3",
   "language": "python",
   "name": "python3"
  },
  "language_info": {
   "codemirror_mode": {
    "name": "ipython",
    "version": 3
   },
   "file_extension": ".py",
   "mimetype": "text/x-python",
   "name": "python",
   "nbconvert_exporter": "python",
   "pygments_lexer": "ipython3",
   "version": "3.8.3"
  }
 },
 "nbformat": 4,
 "nbformat_minor": 4
}
